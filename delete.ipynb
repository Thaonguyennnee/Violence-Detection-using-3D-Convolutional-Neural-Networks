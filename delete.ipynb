{
 "cells": [
  {
   "cell_type": "code",
   "execution_count": 22,
   "id": "eeff104b-4280-4acb-886d-a50cbce7173e",
   "metadata": {
    "ExecuteTime": {
     "end_time": "2023-09-20T07:47:05.017514600Z",
     "start_time": "2023-09-20T07:47:05.010718800Z"
    }
   },
   "outputs": [],
   "source": [
    "import os\n",
    "path = 'Mydata/test/normal'\n"
   ]
  },
  {
   "cell_type": "code",
   "execution_count": 25,
   "id": "43553e61-7c3e-4325-adee-bf4ff2ef878e",
   "metadata": {
    "ExecuteTime": {
     "end_time": "2023-09-20T07:47:15.677466600Z",
     "start_time": "2023-09-20T07:47:15.636164100Z"
    }
   },
   "outputs": [
    {
     "name": "stdout",
     "output_type": "stream",
     "text": [
      "0\n"
     ]
    }
   ],
   "source": [
    "import shutil\n",
    "x=0\n",
    "filename = os.listdir(path)\n",
    "for name in filename:\n",
    "    n = len(os.listdir(path + '/' + name))\n",
    "    if n<= 16:\n",
    "        x +=1\n",
    "        # shutil.rmtree(path+'/'+name)\n",
    "        print(name)\n",
    "print(x)"
   ]
  },
  {
   "cell_type": "code",
   "execution_count": null,
   "id": "19db856e-6813-4815-8d8c-f82827442505",
   "metadata": {},
   "outputs": [],
   "source": []
  }
 ],
 "metadata": {
  "kernelspec": {
   "display_name": "Python 3 (ipykernel)",
   "language": "python",
   "name": "python3"
  },
  "language_info": {
   "codemirror_mode": {
    "name": "ipython",
    "version": 3
   },
   "file_extension": ".py",
   "mimetype": "text/x-python",
   "name": "python",
   "nbconvert_exporter": "python",
   "pygments_lexer": "ipython3",
   "version": "3.8.17"
  }
 },
 "nbformat": 4,
 "nbformat_minor": 5
}
